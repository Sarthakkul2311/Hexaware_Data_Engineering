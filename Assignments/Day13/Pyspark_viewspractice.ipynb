{
 "cells": [
  {
   "cell_type": "code",
   "execution_count": 0,
   "metadata": {
    "application/vnd.databricks.v1+cell": {
     "cellMetadata": {
      "byteLimit": 2048000,
      "rowLimit": 10000
     },
     "inputWidgets": {},
     "nuid": "eb4a1546-b919-45d5-b98b-71eb1e0c7f43",
     "showTitle": false,
     "tableResultSettingsMap": {},
     "title": ""
    }
   },
   "outputs": [
    {
     "output_type": "stream",
     "name": "stdout",
     "output_type": "stream",
     "text": [
      "+---------+---------+-------+-----+\n|firstname| lastname|country|state|\n+---------+---------+-------+-----+\n|  Sarthak| Kulkarni|    IND|   MH|\n| Lakshita|    Sathe|    IND|   MP|\n|    Harsh|Choudhari|    USA|  COL|\n|   Pratik|   Pathak|    IRE|  DUB|\n+---------+---------+-------+-----+\n\n"
     ]
    }
   ],
   "source": [
    "from pyspark.sql import SparkSession\n",
    "# Create spark session\n",
    "spark = SparkSession \\\n",
    ".builder \\\n",
    ".appName(\"SparkByExamples.com\") \\\n",
    ".enableHiveSupport() \\\n",
    ".getOrCreate()\n",
    "data = [(\"Sarthak\",\"Kulkarni\",\"IND\",\"MH\"),\n",
    "(\"Lakshita\",\"Sathe\",\"IND\",\"MP\"),\n",
    "(\"Harsh\",\"Choudhari\",\"USA\",\"COL\"),\n",
    "(\"Pratik\",\"Pathak\",\"IRE\",\"DUB\")\n",
    "]\n",
    "columns = [\"firstname\",\"lastname\",\"country\",\"state\"]\n",
    "# Create dataframe\n",
    "sampleDF = spark.sparkContext.parallelize(data).toDF(columns)\n",
    "sampleDF.createOrReplaceTempView(\"Person\")\n",
    "sampleDF.createOrReplaceTempView(\"mydata\")\n",
    "sampleDF.show()\n"
   ]
  },
  {
   "cell_type": "code",
   "execution_count": 0,
   "metadata": {
    "application/vnd.databricks.v1+cell": {
     "cellMetadata": {
      "byteLimit": 2048000,
      "rowLimit": 10000
     },
     "inputWidgets": {},
     "nuid": "2426249b-66f5-42da-bafa-de2e8a42a5bd",
     "showTitle": false,
     "tableResultSettingsMap": {},
     "title": ""
    }
   },
   "outputs": [
    {
     "output_type": "stream",
     "name": "stdout",
     "output_type": "stream",
     "text": [
      "+---------+---------+-------+-----+\n|firstname| lastname|country|state|\n+---------+---------+-------+-----+\n|  Sarthak| Kulkarni|    IND|   MH|\n| Lakshita|    Sathe|    IND|   MP|\n|    Harsh|Choudhari|    USA|  COL|\n|   Pratik|   Pathak|    IRE|  DUB|\n+---------+---------+-------+-----+\n\n+---------+---------+-------+-----+\n|firstname| lastname|country|state|\n+---------+---------+-------+-----+\n|  Sarthak| Kulkarni|    IND|   MH|\n| Lakshita|    Sathe|    IND|   MP|\n|    Harsh|Choudhari|    USA|  COL|\n|   Pratik|   Pathak|    IRE|  DUB|\n+---------+---------+-------+-----+\n\n"
     ]
    }
   ],
   "source": [
    "spark.sql(\"select * from person\").show()\n",
    "spark.sql(\"select * from mydata\").show()"
   ]
  },
  {
   "cell_type": "code",
   "execution_count": 0,
   "metadata": {
    "application/vnd.databricks.v1+cell": {
     "cellMetadata": {},
     "inputWidgets": {},
     "nuid": "fbe3cd22-bcba-422e-90ac-6054ed0cea6f",
     "showTitle": false,
     "tableResultSettingsMap": {},
     "title": ""
    }
   },
   "outputs": [],
   "source": []
  }
 ],
 "metadata": {
  "application/vnd.databricks.v1+notebook": {
   "dashboards": [],
   "environmentMetadata": null,
   "language": "python",
   "notebookMetadata": {
    "pythonIndentUnit": 2
   },
   "notebookName": "Pyspark_viewspractice",
   "widgets": {}
  }
 },
 "nbformat": 4,
 "nbformat_minor": 0
}
